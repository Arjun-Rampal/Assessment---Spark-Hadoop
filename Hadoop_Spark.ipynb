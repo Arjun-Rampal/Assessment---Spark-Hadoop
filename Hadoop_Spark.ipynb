{
  "nbformat": 4,
  "nbformat_minor": 0,
  "metadata": {
    "colab": {
      "name": "Hadoop - Spark.ipynb",
      "provenance": []
    },
    "kernelspec": {
      "name": "python3",
      "display_name": "Python 3"
    },
    "language_info": {
      "name": "python"
    }
  },
  "cells": [
    {
      "cell_type": "code",
      "source": [
        "# pip install pyspark"
      ],
      "metadata": {
        "id": "UUkOTTKSBNVN"
      },
      "execution_count": 1,
      "outputs": []
    },
    {
      "cell_type": "code",
      "execution_count": 2,
      "metadata": {
        "id": "Rwu_sKiJAwgZ"
      },
      "outputs": [],
      "source": [
        "# Import Required Libraries\n",
        "\n",
        "import numpy as np\n",
        "import pandas as pd\n",
        "import pyspark\n",
        "import six\n",
        "from pyspark.sql import SparkSession\n",
        "from pyspark.sql.functions import col\n",
        "from pyspark.ml.feature import VectorAssembler\n",
        "from pyspark.ml.regression import LinearRegression\n",
        "from pyspark.ml.evaluation import RegressionEvaluator"
      ]
    },
    {
      "cell_type": "code",
      "source": [
        "# Creating Spark Session\n",
        "\n",
        "spark = SparkSession.builder.appName('boston').getOrCreate()\n",
        "db = spark.sql(\"show databases\")\n",
        "db.show()"
      ],
      "metadata": {
        "colab": {
          "base_uri": "https://localhost:8080/"
        },
        "id": "DWZrDmruQlzI",
        "outputId": "51bdc44a-1bff-41d2-9cb0-107bc8659cd3"
      },
      "execution_count": 3,
      "outputs": [
        {
          "output_type": "stream",
          "name": "stdout",
          "text": [
            "+---------+\n",
            "|namespace|\n",
            "+---------+\n",
            "|  default|\n",
            "+---------+\n",
            "\n"
          ]
        }
      ]
    },
    {
      "cell_type": "code",
      "source": [
        "# Conversion of csv file to hive table\n",
        "\n",
        "df = spark.read.csv(\"/content/boston.csv\",header=True)\n",
        "df.show(5)\n",
        "df.write.saveAsTable(\"boston\")"
      ],
      "metadata": {
        "colab": {
          "base_uri": "https://localhost:8080/"
        },
        "id": "2eKfhxtAQ16K",
        "outputId": "bffac27d-7a74-4386-e3d6-f58ca5dec7d1"
      },
      "execution_count": 4,
      "outputs": [
        {
          "output_type": "stream",
          "name": "stdout",
          "text": [
            "+-----------+---+-----------+----+-----------+-----------+-----------+-----------+---+---+-----------+-----------+-----------+-----------+\n",
            "|       CRIM| ZN|      INDUS|CHAS|        NOX|         RM|        AGE|        DIS|RAD|TAX|         PT|          B|      LSTAT|         MV|\n",
            "+-----------+---+-----------+----+-----------+-----------+-----------+-----------+---+---+-----------+-----------+-----------+-----------+\n",
            "|    0.00632| 18|2.309999943|   0|0.537999988|6.574999809|65.19999695|4.090000153|  1|296|15.30000019|396.8999939|4.980000019|         24|\n",
            "|0.027310001|  0|7.070000172|   0|0.469000012|6.421000004|78.90000153|4.967100143|  2|242|17.79999924|396.8999939|9.140000343|21.60000038|\n",
            "|    0.02729|  0|7.070000172|   0|0.469000012|7.184999943|61.09999847|4.967100143|  2|242|17.79999924|392.8299866| 4.03000021|34.70000076|\n",
            "|0.032370001|  0|2.180000067|   0|0.458000004|6.998000145|45.79999924|6.062200069|  3|222|18.70000076|394.6300049|2.940000057|33.40000153|\n",
            "|0.069049999|  0|2.180000067|   0|0.458000004|7.146999836|54.20000076|6.062200069|  3|222|18.70000076|396.8999939|5.329999924|36.20000076|\n",
            "+-----------+---+-----------+----+-----------+-----------+-----------+-----------+---+---+-----------+-----------+-----------+-----------+\n",
            "only showing top 5 rows\n",
            "\n"
          ]
        }
      ]
    },
    {
      "cell_type": "code",
      "source": [
        "# Creating df from hive table\n",
        "\n",
        "new_df = spark.sql(\"select * from boston\")\n",
        "new_df.show()"
      ],
      "metadata": {
        "colab": {
          "base_uri": "https://localhost:8080/"
        },
        "id": "p6hjmsjlRFRO",
        "outputId": "50e35a39-e5a0-455d-f5c3-170f0cb1cc31"
      },
      "execution_count": 5,
      "outputs": [
        {
          "output_type": "stream",
          "name": "stdout",
          "text": [
            "+-----------+----+-----------+----+-----------+-----------+-----------+-----------+---+---+-----------+-----------+-----------+-----------+\n",
            "|       CRIM|  ZN|      INDUS|CHAS|        NOX|         RM|        AGE|        DIS|RAD|TAX|         PT|          B|      LSTAT|         MV|\n",
            "+-----------+----+-----------+----+-----------+-----------+-----------+-----------+---+---+-----------+-----------+-----------+-----------+\n",
            "|    0.00632|  18|2.309999943|   0|0.537999988|6.574999809|65.19999695|4.090000153|  1|296|15.30000019|396.8999939|4.980000019|         24|\n",
            "|0.027310001|   0|7.070000172|   0|0.469000012|6.421000004|78.90000153|4.967100143|  2|242|17.79999924|396.8999939|9.140000343|21.60000038|\n",
            "|    0.02729|   0|7.070000172|   0|0.469000012|7.184999943|61.09999847|4.967100143|  2|242|17.79999924|392.8299866| 4.03000021|34.70000076|\n",
            "|0.032370001|   0|2.180000067|   0|0.458000004|6.998000145|45.79999924|6.062200069|  3|222|18.70000076|394.6300049|2.940000057|33.40000153|\n",
            "|0.069049999|   0|2.180000067|   0|0.458000004|7.146999836|54.20000076|6.062200069|  3|222|18.70000076|396.8999939|5.329999924|36.20000076|\n",
            "|0.029850001|   0|2.180000067|   0|0.458000004|6.429999828|58.70000076|6.062200069|  3|222|18.70000076|394.1199951|5.210000038|28.70000076|\n",
            "|0.088289998|12.5|7.869999886|   0|0.523999989|6.012000084|66.59999847|5.560500145|  5|311|15.19999981|395.6000061|12.43000031|22.89999962|\n",
            "|0.144549996|12.5|7.869999886|   0|0.523999989|6.171999931|96.09999847|5.950500011|  5|311|15.19999981|396.8999939|19.14999962|27.10000038|\n",
            "|0.211239994|12.5|7.869999886|   0|0.523999989|5.631000042|        100|6.082099915|  5|311|15.19999981|386.6300049|29.93000031|       16.5|\n",
            "|0.170039997|12.5|7.869999886|   0|0.523999989|6.004000187|85.90000153|6.592100143|  5|311|15.19999981|386.7099915|17.10000038|18.89999962|\n",
            "|0.224889994|12.5|7.869999886|   0|0.523999989|6.376999855|94.30000305|6.346700191|  5|311|15.19999981| 392.519989|20.45000076|         15|\n",
            "|0.117470004|12.5|7.869999886|   0|0.523999989|6.008999825|82.90000153|6.226699829|  5|311|15.19999981|396.8999939|13.27000046|18.89999962|\n",
            "|0.093780003|12.5|7.869999886|   0|0.523999989|5.888999939|         39|5.450900078|  5|311|15.19999981|      390.5|15.71000004|21.70000076|\n",
            "|0.629760027|   0|8.140000343|   0|0.537999988|5.948999882|61.79999924|4.707499981|  4|307|         21|396.8999939|8.260000229|20.39999962|\n",
            "|0.637960017|   0|8.140000343|   0|0.537999988|6.096000195|       84.5|4.461900234|  4|307|         21| 380.019989|10.26000023|18.20000076|\n",
            "|0.627390027|   0|8.140000343|   0|0.537999988|5.834000111|       56.5|4.498600006|  4|307|         21|395.6199951|8.470000267|19.89999962|\n",
            "|1.053930044|   0|8.140000343|   0|0.537999988|5.934999943|29.29999924|4.498600006|  4|307|         21|386.8500061|6.579999924|23.10000038|\n",
            "|0.784200013|   0|8.140000343|   0|0.537999988|5.989999771|81.69999695|4.257900238|  4|307|         21|     386.75|14.67000008|       17.5|\n",
            "|0.802709997|   0|8.140000343|   0|0.537999988|5.455999851|36.59999847|3.796499968|  4|307|         21|288.9899902|11.68999958|20.20000076|\n",
            "|0.725799978|   0|8.140000343|   0|0.537999988|5.727000237|       69.5|3.796499968|  4|307|         21|390.9500122|11.27999973|18.20000076|\n",
            "+-----------+----+-----------+----+-----------+-----------+-----------+-----------+---+---+-----------+-----------+-----------+-----------+\n",
            "only showing top 20 rows\n",
            "\n"
          ]
        }
      ]
    },
    {
      "cell_type": "code",
      "source": [
        "new_df.printSchema()"
      ],
      "metadata": {
        "id": "7rsXjzbmURl4",
        "colab": {
          "base_uri": "https://localhost:8080/"
        },
        "outputId": "402adf09-44ec-4048-a730-c303f8c702a9"
      },
      "execution_count": 6,
      "outputs": [
        {
          "output_type": "stream",
          "name": "stdout",
          "text": [
            "root\n",
            " |-- CRIM: string (nullable = true)\n",
            " |-- ZN: string (nullable = true)\n",
            " |-- INDUS: string (nullable = true)\n",
            " |-- CHAS: string (nullable = true)\n",
            " |-- NOX: string (nullable = true)\n",
            " |-- RM: string (nullable = true)\n",
            " |-- AGE: string (nullable = true)\n",
            " |-- DIS: string (nullable = true)\n",
            " |-- RAD: string (nullable = true)\n",
            " |-- TAX: string (nullable = true)\n",
            " |-- PT: string (nullable = true)\n",
            " |-- B: string (nullable = true)\n",
            " |-- LSTAT: string (nullable = true)\n",
            " |-- MV: string (nullable = true)\n",
            "\n"
          ]
        }
      ]
    },
    {
      "cell_type": "code",
      "source": [
        "# Converting Datatypes to numeric\n",
        "\n",
        "table = spark.sql(\"select * from boston\")\n",
        "final_df = table.select([col(c).cast(\"double\") for c in table.columns])"
      ],
      "metadata": {
        "id": "V6h0Gi8vROHo"
      },
      "execution_count": 7,
      "outputs": []
    },
    {
      "cell_type": "code",
      "source": [
        "final_df.printSchema()"
      ],
      "metadata": {
        "id": "vJS8i3WOBKHO",
        "colab": {
          "base_uri": "https://localhost:8080/"
        },
        "outputId": "8c1f0141-bb66-441f-ffce-818d6de51257"
      },
      "execution_count": 8,
      "outputs": [
        {
          "output_type": "stream",
          "name": "stdout",
          "text": [
            "root\n",
            " |-- CRIM: double (nullable = true)\n",
            " |-- ZN: double (nullable = true)\n",
            " |-- INDUS: double (nullable = true)\n",
            " |-- CHAS: double (nullable = true)\n",
            " |-- NOX: double (nullable = true)\n",
            " |-- RM: double (nullable = true)\n",
            " |-- AGE: double (nullable = true)\n",
            " |-- DIS: double (nullable = true)\n",
            " |-- RAD: double (nullable = true)\n",
            " |-- TAX: double (nullable = true)\n",
            " |-- PT: double (nullable = true)\n",
            " |-- B: double (nullable = true)\n",
            " |-- LSTAT: double (nullable = true)\n",
            " |-- MV: double (nullable = true)\n",
            "\n"
          ]
        }
      ]
    },
    {
      "cell_type": "code",
      "source": [
        "# Correlation between all Independent and Dependent variables\n",
        "\n",
        "for i in final_df.columns:\n",
        "    if i != \"MV\":\n",
        "      if not( isinstance(final_df.select(i).take(1)[0][0], six.string_types)):\n",
        "          print( \"Correlation to MV for \", i, final_df.stat.corr('MV', i))"
      ],
      "metadata": {
        "id": "DnmrT_EMFEZA",
        "colab": {
          "base_uri": "https://localhost:8080/"
        },
        "outputId": "91bee11e-0dd7-457f-f0bf-2a9763dea138"
      },
      "execution_count": 9,
      "outputs": [
        {
          "output_type": "stream",
          "name": "stdout",
          "text": [
            "Correlation to MV for  CRIM -0.3883046116575088\n",
            "Correlation to MV for  ZN 0.36044534463752903\n",
            "Correlation to MV for  INDUS -0.48372517128143383\n",
            "Correlation to MV for  CHAS 0.17526017775291847\n",
            "Correlation to MV for  NOX -0.4273207763683772\n",
            "Correlation to MV for  RM 0.695359937127267\n",
            "Correlation to MV for  AGE -0.37695456714288667\n",
            "Correlation to MV for  DIS 0.24992873873512172\n",
            "Correlation to MV for  RAD -0.3816262315669168\n",
            "Correlation to MV for  TAX -0.46853593528654536\n",
            "Correlation to MV for  PT -0.5077867038116085\n",
            "Correlation to MV for  B 0.3334608226834164\n",
            "Correlation to MV for  LSTAT -0.7376627294671615\n"
          ]
        }
      ]
    },
    {
      "cell_type": "code",
      "source": [
        "vectorAssembler = VectorAssembler(inputCols = ['CRIM', 'ZN', 'INDUS','CHAS', 'NOX', 'RM', 'AGE', 'DIS', 'RAD', 'TAX', 'PT', 'B', 'LSTAT'], outputCol = 'features')\n",
        "v_df = vectorAssembler.transform(final_df)\n",
        "v_df = v_df.select(['features', 'MV'])\n",
        "v_df.show(3)"
      ],
      "metadata": {
        "id": "6oH7YwjHFjsR",
        "colab": {
          "base_uri": "https://localhost:8080/"
        },
        "outputId": "71819d94-3c1e-4c5e-f635-5414d3372ee3"
      },
      "execution_count": 10,
      "outputs": [
        {
          "output_type": "stream",
          "name": "stdout",
          "text": [
            "+--------------------+-----------+\n",
            "|            features|         MV|\n",
            "+--------------------+-----------+\n",
            "|[0.00632,18.0,2.3...|       24.0|\n",
            "|[0.027310001,0.0,...|21.60000038|\n",
            "|[0.02729,0.0,7.07...|34.70000076|\n",
            "+--------------------+-----------+\n",
            "only showing top 3 rows\n",
            "\n"
          ]
        }
      ]
    },
    {
      "cell_type": "code",
      "source": [
        "splits = v_df.randomSplit([0.7, 0.3])\n",
        "train_df = splits[0]\n",
        "test_df = splits[1]"
      ],
      "metadata": {
        "id": "TdjtPiHJGE_z"
      },
      "execution_count": 11,
      "outputs": []
    },
    {
      "cell_type": "code",
      "source": [
        "# Building Linear Regression Model\n",
        "\n",
        "lr = LinearRegression(featuresCol = 'features', labelCol='MV', maxIter=10, regParam=0.3, elasticNetParam=0.8)\n",
        "lr_model = lr.fit(train_df)"
      ],
      "metadata": {
        "id": "qGb-_UYiGLDV"
      },
      "execution_count": 12,
      "outputs": []
    },
    {
      "cell_type": "code",
      "source": [
        "train_score = lr_model.summary\n",
        "print(\"Train Summary\")\n",
        "print(\"RMSE: %f\" % train_score.rootMeanSquaredError)\n",
        "print(\"r2: %f\" % train_score.r2)"
      ],
      "metadata": {
        "id": "YpyZcrzMGU2A",
        "colab": {
          "base_uri": "https://localhost:8080/"
        },
        "outputId": "b66384c4-3758-46e4-a45f-4df32d7d4526"
      },
      "execution_count": 13,
      "outputs": [
        {
          "output_type": "stream",
          "name": "stdout",
          "text": [
            "Train Summary\n",
            "RMSE: 4.871809\n",
            "r2: 0.731936\n"
          ]
        }
      ]
    },
    {
      "cell_type": "code",
      "source": [
        "test_score = lr_model.evaluate(test_df)\n",
        "print(\"Test Summary\")\n",
        "print(\"RMSE: %f\" % test_score.rootMeanSquaredError)\n",
        "print(\"r2: %f\" % test_score.r2)"
      ],
      "metadata": {
        "id": "RJKIlKiBTE38",
        "colab": {
          "base_uri": "https://localhost:8080/"
        },
        "outputId": "f2f3e6c8-9fa4-42d8-c003-8ed46c67f20c"
      },
      "execution_count": 14,
      "outputs": [
        {
          "output_type": "stream",
          "name": "stdout",
          "text": [
            "Test Summary\n",
            "RMSE: 4.872162\n",
            "r2: 0.681092\n"
          ]
        }
      ]
    }
  ]
}